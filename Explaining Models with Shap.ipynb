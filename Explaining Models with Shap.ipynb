{
 "cells": [
  {
   "cell_type": "markdown",
   "id": "d0e9f253",
   "metadata": {},
   "source": [
    "**Task**\n",
    "\n",
    "For this assignment, you will continue revisiting your first project to predict supermarket sales. You will be applying everything you've learned thus far this week to explain how your models made their predictions.\n",
    "\n",
    "**Project 1 Revisited - Part 2: Global Explanations**\n",
    "\n",
    "**Load Your Saved Joblib File**\n",
    "\n",
    "Create a new notebook for this assignment in your project 1 repository. Name the notebook \"Explaining Models with Shap.ipynb\"\n",
    "\n",
    "In your notebook, load the contents of your \"best-models.joblib\" file into a variable called \"loaded_joblib.\"\n",
    "\n",
    "Save each object from the loaded_joblib dictionary as a separate variable in your notebook. (e.g. \"X_train = loaded_joblib['X_train'])\n",
    "\n",
    "**Explain your tree-based model with shap:**\n",
    "\n",
    "Create an X_shap and y_shap variable from your training data (use shap.sample as needed).\n",
    "\n",
    "Create a model explainer,\n",
    "Calculate the shap values for your model.\n",
    "\n",
    "Create a summary plot - with plot_type='bar':\n",
    "In a Markdown cell below, display your saved feature importance image (that you used in your README) and compare the most important features according to SHAP vs. your original feature importances.\n",
    "\n",
    "Are they the same features in both? If not, what's different?\n",
    "\n",
    "Save your bar summary plot figure as a .png file inside your repository (you will need this for the final piece of this assignment - Update Your README).\n",
    "\n",
    "Create a second summary plot - with plot_type='dot'\n",
    "In a markdown cell, interpret the top 3 most important features and how they influence your model's predictions.\n",
    "Save your figure as a .png file inside your repository (you will need this for the final piece of this assignment - Update Your README).\n",
    "\n",
    "**Update your README.**\n",
    "\n",
    "Insert your exported figures and corresponding interpretations from above into your README file. You should have:\n",
    "\n",
    "a summary plot - bar version\n",
    "\n",
    "Your comparison of most important features found by shap vs feature importance.\n",
    "\n",
    "a summary plot - dot version\n",
    "\n",
    "Your interpretation of the top 3 most important features and how they influence your model's predictions.\n",
    "\n",
    "Submit the link to your project repository as your final submission for this assignment.\n",
    "\n",
    "\n",
    "\n"
   ]
  },
  {
   "cell_type": "code",
   "execution_count": 1,
   "id": "2f9a38d3",
   "metadata": {},
   "outputs": [],
   "source": [
    "##Standard imports\n",
    "import pandas as pd\n",
    "import numpy as np\n",
    "import matplotlib.pyplot as plt\n",
    "import seaborn as sns\n",
    "import missingno as miss\n",
    "\n",
    "##Preprocessing tools\n",
    "from sklearn.model_selection import train_test_split\n",
    "from sklearn.compose import make_column_transformer, make_column_selector\n",
    "from sklearn.pipeline import make_pipeline\n",
    "from sklearn.preprocessing import OneHotEncoder, StandardScaler\n",
    "from sklearn.impute import SimpleImputer\n",
    "\n",
    "##Models & evaluation metrics\n",
    "from sklearn import metrics\n",
    "from sklearn.linear_model import LinearRegression\n",
    "from sklearn.tree import DecisionTreeRegressor\n",
    "from sklearn.ensemble import RandomForestRegressor\n",
    "import joblib\n",
    "\n",
    "##Setting random state for reproducibility\n",
    "SEED = 321\n",
    "np.random.seed(SEED)\n",
    "##Matplotlib style\n",
    "fav_style = ('ggplot','tableau-colorblind10')\n",
    "fav_context  ={'context':'notebook', 'font_scale':1.1}\n",
    "plt.style.use(fav_style)\n",
    "sns.set_context(**fav_context)\n",
    "plt.rcParams['savefig.transparent'] = False\n",
    "plt.rcParams['savefig.bbox'] = 'tight'"
   ]
  },
  {
   "cell_type": "markdown",
   "id": "d9816efc",
   "metadata": {},
   "source": [
    "**Load Your Saved Joblib File**"
   ]
  },
  {
   "cell_type": "code",
   "execution_count": 10,
   "id": "ee9b1cc0",
   "metadata": {},
   "outputs": [],
   "source": [
    "import joblib, os"
   ]
  },
  {
   "cell_type": "code",
   "execution_count": 11,
   "id": "86f853e7",
   "metadata": {},
   "outputs": [],
   "source": []
  },
  {
   "cell_type": "code",
   "execution_count": 12,
   "id": "a0523897",
   "metadata": {},
   "outputs": [
    {
     "ename": "NameError",
     "evalue": "name 'export' is not defined",
     "output_type": "error",
     "traceback": [
      "\u001b[0;31m---------------------------------------------------------------------------\u001b[0m",
      "\u001b[0;31mNameError\u001b[0m                                 Traceback (most recent call last)",
      "Cell \u001b[0;32mIn [12], line 3\u001b[0m\n\u001b[1;32m      1\u001b[0m \u001b[38;5;66;03m# Save the models, data, and preprocessor\u001b[39;00m\n\u001b[1;32m      2\u001b[0m fname\u001b[38;5;241m=\u001b[39mfolder \u001b[38;5;241m+\u001b[39m \u001b[38;5;124m'\u001b[39m\u001b[38;5;124mbest-models.joblib\u001b[39m\u001b[38;5;124m'\u001b[39m\n\u001b[0;32m----> 3\u001b[0m joblib\u001b[38;5;241m.\u001b[39mdump(\u001b[43mexport\u001b[49m, fname)\n",
      "\u001b[0;31mNameError\u001b[0m: name 'export' is not defined"
     ]
    }
   ],
   "source": []
  },
  {
   "cell_type": "code",
   "execution_count": 8,
   "id": "4f1ace04",
   "metadata": {},
   "outputs": [
    {
     "ename": "NameError",
     "evalue": "name 'fname' is not defined",
     "output_type": "error",
     "traceback": [
      "\u001b[0;31m---------------------------------------------------------------------------\u001b[0m",
      "\u001b[0;31mNameError\u001b[0m                                 Traceback (most recent call last)",
      "Cell \u001b[0;32mIn [8], line 3\u001b[0m\n\u001b[1;32m      1\u001b[0m \u001b[38;5;66;03m# Try Loading again to make sure it works.\u001b[39;00m\n\u001b[0;32m----> 3\u001b[0m loaded \u001b[38;5;241m=\u001b[39m joblib\u001b[38;5;241m.\u001b[39mload(\u001b[43mfname\u001b[49m)\n\u001b[1;32m      4\u001b[0m loaded\u001b[38;5;241m.\u001b[39mkeys()\n",
      "\u001b[0;31mNameError\u001b[0m: name 'fname' is not defined"
     ]
    }
   ],
   "source": [
    "# Try Loading again to make sure it works.\n",
    "\n",
    "loaded = joblib.load(fname)\n",
    "loaded.keys()"
   ]
  },
  {
   "cell_type": "code",
   "execution_count": 7,
   "id": "e954afcf",
   "metadata": {},
   "outputs": [
    {
     "ename": "FileNotFoundError",
     "evalue": "[Errno 2] No such file or directory: 'best-models.joblib'",
     "output_type": "error",
     "traceback": [
      "\u001b[0;31m---------------------------------------------------------------------------\u001b[0m",
      "\u001b[0;31mFileNotFoundError\u001b[0m                         Traceback (most recent call last)",
      "Cell \u001b[0;32mIn [7], line 2\u001b[0m\n\u001b[1;32m      1\u001b[0m \u001b[38;5;66;03m# load data from part 1 of 'Project 1 Revisited'\u001b[39;00m\n\u001b[0;32m----> 2\u001b[0m loaded_joblib \u001b[38;5;241m=\u001b[39m \u001b[43mjoblib\u001b[49m\u001b[38;5;241;43m.\u001b[39;49m\u001b[43mload\u001b[49m\u001b[43m(\u001b[49m\u001b[38;5;124;43m'\u001b[39;49m\u001b[38;5;124;43mbest-models.joblib\u001b[39;49m\u001b[38;5;124;43m'\u001b[39;49m\u001b[43m)\u001b[49m\n\u001b[1;32m      3\u001b[0m loaded_joblib\u001b[38;5;241m.\u001b[39mkeys()\n",
      "File \u001b[0;32m/opt/homebrew/Caskroom/miniforge/base/envs/dojo-env/lib/python3.9/site-packages/joblib/numpy_pickle.py:579\u001b[0m, in \u001b[0;36mload\u001b[0;34m(filename, mmap_mode)\u001b[0m\n\u001b[1;32m    577\u001b[0m         obj \u001b[38;5;241m=\u001b[39m _unpickle(fobj)\n\u001b[1;32m    578\u001b[0m \u001b[38;5;28;01melse\u001b[39;00m:\n\u001b[0;32m--> 579\u001b[0m     \u001b[38;5;28;01mwith\u001b[39;00m \u001b[38;5;28;43mopen\u001b[39;49m\u001b[43m(\u001b[49m\u001b[43mfilename\u001b[49m\u001b[43m,\u001b[49m\u001b[43m \u001b[49m\u001b[38;5;124;43m'\u001b[39;49m\u001b[38;5;124;43mrb\u001b[39;49m\u001b[38;5;124;43m'\u001b[39;49m\u001b[43m)\u001b[49m \u001b[38;5;28;01mas\u001b[39;00m f:\n\u001b[1;32m    580\u001b[0m         \u001b[38;5;28;01mwith\u001b[39;00m _read_fileobject(f, filename, mmap_mode) \u001b[38;5;28;01mas\u001b[39;00m fobj:\n\u001b[1;32m    581\u001b[0m             \u001b[38;5;28;01mif\u001b[39;00m \u001b[38;5;28misinstance\u001b[39m(fobj, \u001b[38;5;28mstr\u001b[39m):\n\u001b[1;32m    582\u001b[0m                 \u001b[38;5;66;03m# if the returned file object is a string, this means we\u001b[39;00m\n\u001b[1;32m    583\u001b[0m                 \u001b[38;5;66;03m# try to load a pickle file generated with an version of\u001b[39;00m\n\u001b[1;32m    584\u001b[0m                 \u001b[38;5;66;03m# Joblib so we load it with joblib compatibility function.\u001b[39;00m\n",
      "\u001b[0;31mFileNotFoundError\u001b[0m: [Errno 2] No such file or directory: 'best-models.joblib'"
     ]
    }
   ],
   "source": [
    "# load data from part 1 of 'Project 1 Revisited'\n",
    "loaded_joblib = joblib.load('best-models.joblib')\n",
    "loaded_joblib.keys()"
   ]
  },
  {
   "cell_type": "code",
   "execution_count": null,
   "id": "29dffc78",
   "metadata": {},
   "outputs": [],
   "source": []
  }
 ],
 "metadata": {
  "kernelspec": {
   "display_name": "Python (dojo-env)",
   "language": "python",
   "name": "dojo-env"
  },
  "language_info": {
   "codemirror_mode": {
    "name": "ipython",
    "version": 3
   },
   "file_extension": ".py",
   "mimetype": "text/x-python",
   "name": "python",
   "nbconvert_exporter": "python",
   "pygments_lexer": "ipython3",
   "version": "3.9.15"
  },
  "toc": {
   "base_numbering": 1,
   "nav_menu": {},
   "number_sections": false,
   "sideBar": true,
   "skip_h1_title": false,
   "title_cell": "Table of Contents",
   "title_sidebar": "Contents",
   "toc_cell": false,
   "toc_position": {},
   "toc_section_display": true,
   "toc_window_display": false
  }
 },
 "nbformat": 4,
 "nbformat_minor": 5
}
